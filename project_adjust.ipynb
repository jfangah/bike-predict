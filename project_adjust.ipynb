{
 "cells": [
  {
   "cell_type": "markdown",
   "metadata": {
    "colab_type": "text",
    "id": "btio-6odttb2"
   },
   "source": [
    "## Part 2 - Group Presentation\n",
    "\n",
    "Prepare a 5 minutes presentation on your Task 5 prediction work. You will be given another set of training set, testing set of you Task 5 **on 2/5/2019**. Compute the accuracy yourself and include it in your presentation. Your presentation should be focus on why would your choose that particular algorithm and what optimization/fine tuning you have done to improve the accuracy. You can also comment on your accuracy and suggest how could that be improved. \n",
    "\n",
    "You may use the following line to measure the accurarcy\n",
    "```\n",
    "groundtruth['predict'] = output['to_station_id']\n",
    "groundtruth[ groundtruth['predict'] == groundtruth['to_station_id']].count()\n",
    "```\n",
    "\n",
    "Since this is a short presentation, you may assign any member to present the work.\n",
    "\n",
    "**Note: Again, a higher accuracy does not immediate imply a higher mark.**"
   ]
  },
  {
   "cell_type": "code",
   "execution_count": 1,
   "metadata": {
    "colab": {},
    "colab_type": "code",
    "id": "cdgvDmwRoPtp"
   },
   "outputs": [],
   "source": [
    "import pandas as pd\n",
    "from math import isnan\n",
    "import numpy as np\n",
    "import math\n",
    "\n",
    "training = pd.read_csv('data/data_set/training.csv',parse_dates=['start_time'], date_parser=lambda col: pd.to_datetime(col))\n",
    "test1 = pd.read_csv('data/data_set/test1.csv',parse_dates=['start_time'], date_parser=lambda col: pd.to_datetime(col))\n",
    "test2 = pd.read_csv('data/data_set/test2.csv',parse_dates=['start_time'], date_parser=lambda col: pd.to_datetime(col))\n",
    "groundtruth1 = pd.read_csv('data/data_set/groundtruth1.csv',parse_dates=['start_time'], date_parser=lambda col: pd.to_datetime(col))\n",
    "groundtruth2 = pd.read_csv('data/data_set/groundtruth2.csv',parse_dates=['start_time'], date_parser=lambda col: pd.to_datetime(col))\n",
    "\n"
   ]
  },
  {
   "cell_type": "code",
   "execution_count": 1,
   "metadata": {
    "colab": {},
    "colab_type": "code",
    "id": "ZdbpRE8OpCg6"
   },
   "outputs": [
    {
     "ename": "SyntaxError",
     "evalue": "unexpected character after line continuation character (<ipython-input-1-39785d53b411>, line 20)",
     "output_type": "error",
     "traceback": [
      "\u001b[0;36m  File \u001b[0;32m\"<ipython-input-1-39785d53b411>\"\u001b[0;36m, line \u001b[0;32m20\u001b[0m\n\u001b[0;31m    training_data['time_range_morning'] = training_data['start_time']\\.map(lambda x: 1 if x>6 and x<=9 else 0)\u001b[0m\n\u001b[0m                                                                                                              ^\u001b[0m\n\u001b[0;31mSyntaxError\u001b[0m\u001b[0;31m:\u001b[0m unexpected character after line continuation character\n"
     ]
    }
   ],
   "source": [
    "def preprocessing_training(training_data):\n",
    "    training_data = training_data.drop(training_data.columns[0], axis=1)\n",
    "\n",
    "    # delete the useless data\n",
    "    training_data.drop(['end_time', 'bikeid', 'from_station_name', 'to_station_name'],axis = 1,inplace = True)\n",
    "\n",
    "    # Change the types of data.\n",
    "    \n",
    "    training_data['usertype'] = training_data['usertype'].map(lambda x: -1 if x == 'Customer' else 1)\n",
    "    training_data['gender'] = training_data['gender'].map(lambda x: 1 if x == 'Male' else (-1 if x == 'Female' else 0))\n",
    "    training_data['birthyear'] = training_data['birthyear'].map(lambda x: int((2018 - x - 1) / 5) if isnan(x)is not True else 0)\n",
    "    training_data['age'] = training_data['birthyear'].map(lambda x: x if x >= 0 and x <= 15 else 16)\n",
    "\n",
    "    training_data['month'] = training_data['start_time'].dt.month\n",
    "    training_data['weekday'] = training_data['start_time'].dt.dayofweek+1\n",
    "    training_data['start_time'] = training_data['start_time'].dt.hour\n",
    "    training_data['tripduration'] = training_data['tripduration'].map(lambda x: int(float(x.strip().replace(',', '')) / 60))\n",
    "    training_data['weekend'] = training_data['weekday'].map(lambda x: 1 if x > 5 else 0)\n",
    "\n",
    "    training_data['time_range_morning'] = training_data['start_time']\\\n",
    "        .map(lambda x: 1 if x>6 and x<=9 else 0)\n",
    "\n",
    "    training_data['time_range_night'] = training_data['start_time']\\\n",
    "        .map(lambda x: 1 if x>14 and x<=19 else 0)\n",
    "\n",
    "   \n",
    "    \n",
    "    training_data.drop(['birthyear'],axis = 1,inplace = True)\n",
    "    return training_data\n",
    "\n",
    "def preprocessing_test(test_data):\n",
    "    test_data = test_data.drop(test_data.columns[0], axis=1)\n",
    "    test_data.drop(['end_time', 'bikeid', 'from_station_name', 'to_station_id', 'to_station_name'],axis = 1,inplace = True)\n",
    "\n",
    "    test_data['usertype'] = test_data['usertype'].map(lambda x: -1 if x == 'Customer' else 1)\n",
    "    test_data['gender'] = test_data['gender'].map(lambda x: 1 if x == 'Male' else (-1 if x == 'Female' else 0))\n",
    "    test_data['birthyear'] = test_data['birthyear'].map(lambda x: int((2018 - x - 1) / 5) if isnan(x)is not True else 0)\n",
    "    test_data['age'] = test_data['birthyear'].map(lambda x: x if x >= 0 and x <= 15 else 16)\n",
    "\n",
    "    test_data['month'] = test_data['start_time'].dt.month\n",
    "    #test_data['month'] = test_data['month'].map(lambda x: 7 if x<7 else (9 if x>9 else x))\n",
    "    test_data['weekday'] = test_data['start_time'].dt.dayofweek+1\n",
    "    test_data['start_time'] = test_data['start_time'].dt.hour\n",
    "    test_data['tripduration'] = test_data['tripduration'].map(lambda x: int(float(x.strip().replace(',', '')) / 60))\n",
    "    test_data['weekend'] = test_data['weekday'].map(lambda x: 1 if x > 5 else 0)\n",
    "\n",
    "    test_data['time_range_morning'] = test_data['start_time'].map(lambda x: 1 if x>6 and x<=9 else 0)\n",
    "\n",
    "    test_data['time_range_night'] = test_data['start_time'].map(lambda x: 1 if x>14 and x<=19 else 0)\n",
    "\n",
    "    test_data.drop(['birthyear'],axis = 1,inplace = True)\n",
    "    return test_data\n"
   ]
  },
  {
   "cell_type": "code",
   "execution_count": 3,
   "metadata": {
    "colab": {},
    "colab_type": "code",
    "id": "sDBmmOlJpJFf"
   },
   "outputs": [],
   "source": [
    "import random\n",
    "random.seed(1337)\n",
    "training_data = preprocessing_training(training)\n",
    "test_data1 = preprocessing_test(test1)\n",
    "test_data2 = preprocessing_test(test2)\n",
    "\n",
    "#clean duration\n",
    "training_data = training_data[training_data['tripduration'] < 10000.0]\n",
    "\n",
    "\n",
    "# we change age 0 to age 5, and delete 1, 2, 14, 15, 16\n",
    "training_data['age'] = training_data['age'].map(lambda x: 5 if (x==0 and random.random()>0.40) else (6 if x==0 else x))\n",
    "\n",
    "training_data = training_data[training_data['age'] != 1]\n",
    "training_data = training_data[training_data['age'] != 2]\n",
    "training_data = training_data[training_data['age'] < 14]\n",
    "\n"
   ]
  },
  {
   "cell_type": "code",
   "execution_count": 5,
   "metadata": {},
   "outputs": [
    {
     "data": {
      "text/plain": [
       "<matplotlib.axes._subplots.AxesSubplot at 0x11b33c550>"
      ]
     },
     "execution_count": 5,
     "metadata": {},
     "output_type": "execute_result"
    },
    {
     "data": {
      "image/png": "[encoded data removed]",
      "text/plain": [
       "<Figure size 432x288 with 1 Axes>"
      ]
     },
     "metadata": {
      "needs_background": "light"
     },
     "output_type": "display_data"
    }
   ],
   "source": [
    "training_data.groupby('age').count()['gender'].plot(kind='bar')"
   ]
  },
  {
   "cell_type": "code",
   "execution_count": null,
   "metadata": {},
   "outputs": [],
   "source": [
    "from sklearn.neighbors import KNeighborsClassifier\n",
    "from sklearn.model_selection import train_test_split\n",
    "def t():\n",
    "    ##train\n",
    "    x_columns=[]\n",
    "    for i in training_data.columns:\n",
    "        if i not in ['to_station_id','weekday']:\n",
    "            x_columns.append(i)\n",
    "\n",
    "    x_columns.append('from_station_id')\n",
    "    x_columns.append('from_station_id')\n",
    "    x_columns.append('start_time')\n",
    "\n",
    "    x_columns.append('usertype')\n",
    "    x=training_data[x_columns]\n",
    "    y=training_data['to_station_id']\n",
    "\n",
    "    X_train,X_test,Y_train,Y_test=train_test_split(x,y,test_size=0.01)\n",
    "    X_train=X_train.values\n",
    "    X_test=X_test.values\n",
    "    Y_train=Y_train.values\n",
    "    Y_test=Y_test.values\n",
    "\n",
    "    ##knn model\n",
    "    estimator=KNeighborsClassifier(n_neighbors=9, weights='distance', algorithm='kd_tree', leaf_size=80, p=1)\n",
    "    estimator.fit(X_train,Y_train)\n",
    "\n",
    "    y_predicted=estimator.predict(X_test)\n",
    "\n",
    "    accuracy=np.mean(Y_test==y_predicted)*100\n",
    "    print(' training accuracy is: ', accuracy)\n",
    "    \n",
    "    \n",
    "    ##test1\n",
    "    test_columns=[]\n",
    "    for i in test_data1.columns:\n",
    "      if i not in ['weekday']:\n",
    "        test_columns.append(i)\n",
    "\n",
    "    test_columns.append('from_station_id')\n",
    "    test_columns.append('from_station_id')\n",
    "    test_columns.append('start_time')\n",
    "    test_columns.append('usertype')\n",
    "    test_data=test_data1[test_columns]\n",
    "\n",
    "    test1_predicted = estimator.predict(test_data)\n",
    "    real1 = groundtruth1.to_station_id.values\n",
    "\n",
    "    test1_accuracy=np.mean(test1_predicted==real1)*100\n",
    "    print(' test1 accuracy is: ', test1_accuracy)\n",
    "\n",
    "    ##test2\n",
    "    test_columns=[]\n",
    "    for i in test_data2.columns:\n",
    "      if i not in ['weekday']:\n",
    "        test_columns.append(i)\n",
    "\n",
    "    test_columns.append('from_station_id')\n",
    "    test_columns.append('from_station_id')\n",
    "\n",
    "    test_columns.append('start_time')\n",
    "    test_columns.append('usertype')\n",
    "    test_data=test_data2[test_columns]\n",
    "\n",
    "    test2_predicted = estimator.predict(test_data)\n",
    "    real2 = groundtruth2.to_station_id.values\n",
    "\n",
    "    test2_accuracy=np.mean(test2_predicted==real2)*100\n",
    "    print(' test2 accuracy is: ', test2_accuracy)\n",
    "\n",
    "\n",
    "\n",
    "for i in range(4):\n",
    "    print('this is the',(i+1),'th round')\n",
    "    t()\n"
   ]
  },
  {
   "cell_type": "code",
   "execution_count": 267,
   "metadata": {},
   "outputs": [
    {
     "data": {
      "text/html": [
       "<div>\n",
       "<style scoped>\n",
       "    .dataframe tbody tr th:only-of-type {\n",
       "        vertical-align: middle;\n",
       "    }\n",
       "\n",
       "    .dataframe tbody tr th {\n",
       "        vertical-align: top;\n",
       "    }\n",
       "\n",
       "    .dataframe thead th {\n",
       "        text-align: right;\n",
       "    }\n",
       "</style>\n",
       "<table border=\"1\" class=\"dataframe\">\n",
       "  <thead>\n",
       "    <tr style=\"text-align: right;\">\n",
       "      <th></th>\n",
       "      <th>start_time</th>\n",
       "      <th>tripduration</th>\n",
       "      <th>from_station_id</th>\n",
       "      <th>usertype</th>\n",
       "      <th>gender</th>\n",
       "      <th>age</th>\n",
       "      <th>weekday</th>\n",
       "      <th>weekend</th>\n",
       "      <th>time_range_morning</th>\n",
       "      <th>time_range_night</th>\n",
       "    </tr>\n",
       "    <tr>\n",
       "      <th>month</th>\n",
       "      <th></th>\n",
       "      <th></th>\n",
       "      <th></th>\n",
       "      <th></th>\n",
       "      <th></th>\n",
       "      <th></th>\n",
       "      <th></th>\n",
       "      <th></th>\n",
       "      <th></th>\n",
       "      <th></th>\n",
       "    </tr>\n",
       "  </thead>\n",
       "  <tbody>\n",
       "    <tr>\n",
       "      <th>9</th>\n",
       "      <td>1000</td>\n",
       "      <td>1000</td>\n",
       "      <td>1000</td>\n",
       "      <td>1000</td>\n",
       "      <td>1000</td>\n",
       "      <td>1000</td>\n",
       "      <td>1000</td>\n",
       "      <td>1000</td>\n",
       "      <td>1000</td>\n",
       "      <td>1000</td>\n",
       "    </tr>\n",
       "  </tbody>\n",
       "</table>\n",
       "</div>"
      ],
      "text/plain": [
       "       start_time  tripduration  from_station_id  usertype  gender   age  \\\n",
       "month                                                                      \n",
       "9            1000          1000             1000      1000    1000  1000   \n",
       "\n",
       "       weekday  weekend  time_range_morning  time_range_night  \n",
       "month                                                          \n",
       "9         1000     1000                1000              1000  "
      ]
     },
     "execution_count": 267,
     "metadata": {},
     "output_type": "execute_result"
    }
   ],
   "source": [
    "test_data1.groupby('month').count()"
   ]
  },
  {
   "cell_type": "code",
   "execution_count": null,
   "metadata": {},
   "outputs": [],
   "source": []
  },
  {
   "cell_type": "code",
   "execution_count": 173,
   "metadata": {
    "colab": {
     "base_uri": "https://localhost:8080/",
     "height": 34
    },
    "colab_type": "code",
    "executionInfo": {
     "elapsed": 22128,
     "status": "ok",
     "timestamp": 1557118625563,
     "user": {
      "displayName": "Lee Dream",
      "photoUrl": "https://lh6.googleusercontent.com/-K_8_F6egu00/AAAAAAAAAAI/AAAAAAAAAKY/t24BsXP01-E/s64/photo.jpg",
      "userId": "00360176099947752216"
     },
     "user_tz": -480
    },
    "id": "6OYLisuQt7mi",
    "outputId": "a2519b88-38bc-4889-e0cf-c53cf2e669e2"
   },
   "outputs": [],
   "source": [
    "from sklearn.neighbors import KNeighborsClassifier\n",
    "from sklearn.model_selection import train_test_split\n",
    "\n",
    "## training model knn\n",
    "\n",
    "x_columns=[]\n",
    "for i in training_data.columns:\n",
    "    if i not in ['to_station_id', 'weekday']:\n",
    "        x_columns.append(i)\n",
    "x_columns.append('from_station_id')\n",
    "x_columns.append('from_station_id')\n",
    "x_columns.append('from_station_id')\n",
    "x_columns.append('start_time')\n",
    "x_columns.append('start_time')\n",
    "x_columns.append('usertype')\n",
    "x=training_data[x_columns]\n",
    "y=training_data['to_station_id']\n",
    "\n",
    "X_train,X_test,Y_train,Y_test=train_test_split(x,y,test_size=0.01)\n",
    "X_train=X_train.values\n",
    "X_test=X_test.values\n",
    "Y_train=Y_train.values\n",
    "Y_test=Y_test.values\n",
    "\n",
    "##knn model\n",
    "estimator=KNeighborsClassifier(n_neighbors=9,weights='distance',algorithm='kd_tree', p=1)\n",
    "estimator.fit(X_train,Y_train)\n",
    "\n",
    "y_predicted=estimator.predict(X_test)\n",
    "\n",
    "accuracy=np.mean(Y_test==y_predicted)*100\n",
    "print('training accuracy is: ', accuracy)\n"
   ]
  },
  {
   "cell_type": "code",
   "execution_count": 174,
   "metadata": {
    "colab": {
     "base_uri": "https://localhost:8080/",
     "height": 34
    },
    "colab_type": "code",
    "executionInfo": {
     "elapsed": 19337,
     "status": "ok",
     "timestamp": 1557118625565,
     "user": {
      "displayName": "Lee Dream",
      "photoUrl": "https://lh6.googleusercontent.com/-K_8_F6egu00/AAAAAAAAAAI/AAAAAAAAAKY/t24BsXP01-E/s64/photo.jpg",
      "userId": "00360176099947752216"
     },
     "user_tz": -480
    },
    "id": "M0le1lre08Qv",
    "outputId": "25f63c24-590b-4286-c635-faba0c4eb239"
   },
   "outputs": [],
   "source": [
    "##predict test1\n",
    "\n",
    "# test_data1['weekend'] = test_data1['weekday'].map(lambda x: 1 if x > 5 else 0)\n",
    "\n",
    "test_columns=[]\n",
    "for i in test_data1.columns:\n",
    "  if i not in ['weekday']:\n",
    "    test_columns.append(i)\n",
    "test_columns.append('from_station_id')\n",
    "test_columns.append('from_station_id')\n",
    "test_columns.append('from_station_id')\n",
    "test_columns.append('start_time')\n",
    "test_columns.append('start_time')\n",
    "test_columns.append('usertype')\n",
    "test_data=test_data1[test_columns]\n",
    "\n",
    "test1_predicted = estimator.predict(test_data)\n",
    "real1 = groundtruth1.to_station_id.values\n",
    "\n",
    "test1_accuracy=np.mean(test1_predicted==real1)*100\n",
    "print('test1 accuracy is: ', test1_accuracy)\n"
   ]
  },
  {
   "cell_type": "code",
   "execution_count": 175,
   "metadata": {
    "colab": {
     "base_uri": "https://localhost:8080/",
     "height": 34
    },
    "colab_type": "code",
    "executionInfo": {
     "elapsed": 18526,
     "status": "ok",
     "timestamp": 1557118625845,
     "user": {
      "displayName": "Lee Dream",
      "photoUrl": "https://lh6.googleusercontent.com/-K_8_F6egu00/AAAAAAAAAAI/AAAAAAAAAKY/t24BsXP01-E/s64/photo.jpg",
      "userId": "00360176099947752216"
     },
     "user_tz": -480
    },
    "id": "O5yNGdjCxAjQ",
    "outputId": "deef0ae0-abfb-4a0e-d326-706509d8c85d"
   },
   "outputs": [],
   "source": [
    "##predict test2\n",
    "\n",
    "# test_data2['weekend'] = test_data2['weekday'].map(lambda x: 1 if x > 5 else 0)\n",
    "\n",
    "test_columns=[]\n",
    "for i in test_data2.columns:\n",
    "  if i not in ['weekday']:\n",
    "    test_columns.append(i)\n",
    "test_columns.append('from_station_id')\n",
    "test_columns.append('from_station_id')\n",
    "test_columns.append('from_station_id')\n",
    "test_columns.append('start_time')\n",
    "test_columns.append('start_time')\n",
    "test_columns.append('usertype')\n",
    "test_data=test_data2[test_columns]\n",
    "\n",
    "test2_predicted = estimator.predict(test_data)\n",
    "real2 = groundtruth2.to_station_id.values\n",
    "\n",
    "test2_accuracy=np.mean(test2_predicted==real2)*100\n",
    "print('test2 accuracy is: ', test2_accuracy)\n"
   ]
  }
 ],
 "metadata": {
  "accelerator": "GPU",
  "colab": {
   "collapsed_sections": [],
   "name": "project.ipynb",
   "provenance": [],
   "version": "0.3.2"
  },
  "kernelspec": {
   "display_name": "Python 3",
   "language": "python",
   "name": "python3"
  },
  "language_info": {
   "codemirror_mode": {
    "name": "ipython",
    "version": 3
   },
   "file_extension": ".py",
   "mimetype": "text/x-python",
   "name": "python",
   "nbconvert_exporter": "python",
   "pygments_lexer": "ipython3",
   "version": "3.7.2"
  }
 },
 "nbformat": 4,
 "nbformat_minor": 1
}
